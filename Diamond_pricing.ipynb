{
  "nbformat": 4,
  "nbformat_minor": 0,
  "metadata": {
    "colab": {
      "provenance": []
    },
    "kernelspec": {
      "name": "python3",
      "display_name": "Python 3"
    },
    "language_info": {
      "name": "python"
    }
  },
  "cells": [
    {
      "cell_type": "code",
      "execution_count": 50,
      "metadata": {
        "id": "Kx4qBt4jEeZv"
      },
      "outputs": [],
      "source": [
        "import numpy as np\n",
        "import pandas as pd\n",
        "import matplotlib.pyplot as plt\n",
        "import seaborn as sns\n",
        "from sklearn.model_selection import train_test_split"
      ]
    },
    {
      "cell_type": "code",
      "source": [
        "data = pd.read_csv(\"/content/train.csv\")\n",
        "data_test = pd.read_csv(\"/content/test.csv\")"
      ],
      "metadata": {
        "id": "3E4cca49Etkn"
      },
      "execution_count": 36,
      "outputs": []
    },
    {
      "cell_type": "code",
      "source": [
        "data.head()"
      ],
      "metadata": {
        "colab": {
          "base_uri": "https://localhost:8080/",
          "height": 206
        },
        "id": "6T__FYJLKIk-",
        "outputId": "b83e3c72-d3fb-46ee-b73d-da40f04e02f5"
      },
      "execution_count": 37,
      "outputs": [
        {
          "output_type": "execute_result",
          "data": {
            "text/plain": [
              "   Id  carat      cut color clarity  depth  table  price     x     y     z\n",
              "0   1   1.06    Ideal     I     SI2   61.8   57.0   4270  6.57  6.60  4.07\n",
              "1   2   1.51  Premium     G    VVS2   60.9   58.0  15164  7.38  7.42  4.51\n",
              "2   3   0.32    Ideal     F     VS2   61.3   56.0    828  4.43  4.41  2.71\n",
              "3   4   0.53    Ideal     G     VS2   61.2   56.0   1577  5.19  5.22  3.19\n",
              "4   5   0.70  Premium     H    VVS2   61.0   57.0   2596  5.76  5.72  3.50"
            ],
            "text/html": [
              "\n",
              "  <div id=\"df-188f81db-66d4-4bb6-af99-7fb2b4a38b95\" class=\"colab-df-container\">\n",
              "    <div>\n",
              "<style scoped>\n",
              "    .dataframe tbody tr th:only-of-type {\n",
              "        vertical-align: middle;\n",
              "    }\n",
              "\n",
              "    .dataframe tbody tr th {\n",
              "        vertical-align: top;\n",
              "    }\n",
              "\n",
              "    .dataframe thead th {\n",
              "        text-align: right;\n",
              "    }\n",
              "</style>\n",
              "<table border=\"1\" class=\"dataframe\">\n",
              "  <thead>\n",
              "    <tr style=\"text-align: right;\">\n",
              "      <th></th>\n",
              "      <th>Id</th>\n",
              "      <th>carat</th>\n",
              "      <th>cut</th>\n",
              "      <th>color</th>\n",
              "      <th>clarity</th>\n",
              "      <th>depth</th>\n",
              "      <th>table</th>\n",
              "      <th>price</th>\n",
              "      <th>x</th>\n",
              "      <th>y</th>\n",
              "      <th>z</th>\n",
              "    </tr>\n",
              "  </thead>\n",
              "  <tbody>\n",
              "    <tr>\n",
              "      <th>0</th>\n",
              "      <td>1</td>\n",
              "      <td>1.06</td>\n",
              "      <td>Ideal</td>\n",
              "      <td>I</td>\n",
              "      <td>SI2</td>\n",
              "      <td>61.8</td>\n",
              "      <td>57.0</td>\n",
              "      <td>4270</td>\n",
              "      <td>6.57</td>\n",
              "      <td>6.60</td>\n",
              "      <td>4.07</td>\n",
              "    </tr>\n",
              "    <tr>\n",
              "      <th>1</th>\n",
              "      <td>2</td>\n",
              "      <td>1.51</td>\n",
              "      <td>Premium</td>\n",
              "      <td>G</td>\n",
              "      <td>VVS2</td>\n",
              "      <td>60.9</td>\n",
              "      <td>58.0</td>\n",
              "      <td>15164</td>\n",
              "      <td>7.38</td>\n",
              "      <td>7.42</td>\n",
              "      <td>4.51</td>\n",
              "    </tr>\n",
              "    <tr>\n",
              "      <th>2</th>\n",
              "      <td>3</td>\n",
              "      <td>0.32</td>\n",
              "      <td>Ideal</td>\n",
              "      <td>F</td>\n",
              "      <td>VS2</td>\n",
              "      <td>61.3</td>\n",
              "      <td>56.0</td>\n",
              "      <td>828</td>\n",
              "      <td>4.43</td>\n",
              "      <td>4.41</td>\n",
              "      <td>2.71</td>\n",
              "    </tr>\n",
              "    <tr>\n",
              "      <th>3</th>\n",
              "      <td>4</td>\n",
              "      <td>0.53</td>\n",
              "      <td>Ideal</td>\n",
              "      <td>G</td>\n",
              "      <td>VS2</td>\n",
              "      <td>61.2</td>\n",
              "      <td>56.0</td>\n",
              "      <td>1577</td>\n",
              "      <td>5.19</td>\n",
              "      <td>5.22</td>\n",
              "      <td>3.19</td>\n",
              "    </tr>\n",
              "    <tr>\n",
              "      <th>4</th>\n",
              "      <td>5</td>\n",
              "      <td>0.70</td>\n",
              "      <td>Premium</td>\n",
              "      <td>H</td>\n",
              "      <td>VVS2</td>\n",
              "      <td>61.0</td>\n",
              "      <td>57.0</td>\n",
              "      <td>2596</td>\n",
              "      <td>5.76</td>\n",
              "      <td>5.72</td>\n",
              "      <td>3.50</td>\n",
              "    </tr>\n",
              "  </tbody>\n",
              "</table>\n",
              "</div>\n",
              "    <div class=\"colab-df-buttons\">\n",
              "\n",
              "  <div class=\"colab-df-container\">\n",
              "    <button class=\"colab-df-convert\" onclick=\"convertToInteractive('df-188f81db-66d4-4bb6-af99-7fb2b4a38b95')\"\n",
              "            title=\"Convert this dataframe to an interactive table.\"\n",
              "            style=\"display:none;\">\n",
              "\n",
              "  <svg xmlns=\"http://www.w3.org/2000/svg\" height=\"24px\" viewBox=\"0 -960 960 960\">\n",
              "    <path d=\"M120-120v-720h720v720H120Zm60-500h600v-160H180v160Zm220 220h160v-160H400v160Zm0 220h160v-160H400v160ZM180-400h160v-160H180v160Zm440 0h160v-160H620v160ZM180-180h160v-160H180v160Zm440 0h160v-160H620v160Z\"/>\n",
              "  </svg>\n",
              "    </button>\n",
              "\n",
              "  <style>\n",
              "    .colab-df-container {\n",
              "      display:flex;\n",
              "      gap: 12px;\n",
              "    }\n",
              "\n",
              "    .colab-df-convert {\n",
              "      background-color: #E8F0FE;\n",
              "      border: none;\n",
              "      border-radius: 50%;\n",
              "      cursor: pointer;\n",
              "      display: none;\n",
              "      fill: #1967D2;\n",
              "      height: 32px;\n",
              "      padding: 0 0 0 0;\n",
              "      width: 32px;\n",
              "    }\n",
              "\n",
              "    .colab-df-convert:hover {\n",
              "      background-color: #E2EBFA;\n",
              "      box-shadow: 0px 1px 2px rgba(60, 64, 67, 0.3), 0px 1px 3px 1px rgba(60, 64, 67, 0.15);\n",
              "      fill: #174EA6;\n",
              "    }\n",
              "\n",
              "    .colab-df-buttons div {\n",
              "      margin-bottom: 4px;\n",
              "    }\n",
              "\n",
              "    [theme=dark] .colab-df-convert {\n",
              "      background-color: #3B4455;\n",
              "      fill: #D2E3FC;\n",
              "    }\n",
              "\n",
              "    [theme=dark] .colab-df-convert:hover {\n",
              "      background-color: #434B5C;\n",
              "      box-shadow: 0px 1px 3px 1px rgba(0, 0, 0, 0.15);\n",
              "      filter: drop-shadow(0px 1px 2px rgba(0, 0, 0, 0.3));\n",
              "      fill: #FFFFFF;\n",
              "    }\n",
              "  </style>\n",
              "\n",
              "    <script>\n",
              "      const buttonEl =\n",
              "        document.querySelector('#df-188f81db-66d4-4bb6-af99-7fb2b4a38b95 button.colab-df-convert');\n",
              "      buttonEl.style.display =\n",
              "        google.colab.kernel.accessAllowed ? 'block' : 'none';\n",
              "\n",
              "      async function convertToInteractive(key) {\n",
              "        const element = document.querySelector('#df-188f81db-66d4-4bb6-af99-7fb2b4a38b95');\n",
              "        const dataTable =\n",
              "          await google.colab.kernel.invokeFunction('convertToInteractive',\n",
              "                                                    [key], {});\n",
              "        if (!dataTable) return;\n",
              "\n",
              "        const docLinkHtml = 'Like what you see? Visit the ' +\n",
              "          '<a target=\"_blank\" href=https://colab.research.google.com/notebooks/data_table.ipynb>data table notebook</a>'\n",
              "          + ' to learn more about interactive tables.';\n",
              "        element.innerHTML = '';\n",
              "        dataTable['output_type'] = 'display_data';\n",
              "        await google.colab.output.renderOutput(dataTable, element);\n",
              "        const docLink = document.createElement('div');\n",
              "        docLink.innerHTML = docLinkHtml;\n",
              "        element.appendChild(docLink);\n",
              "      }\n",
              "    </script>\n",
              "  </div>\n",
              "\n",
              "\n",
              "<div id=\"df-9a36bec8-81da-468d-8b85-6e831210c217\">\n",
              "  <button class=\"colab-df-quickchart\" onclick=\"quickchart('df-9a36bec8-81da-468d-8b85-6e831210c217')\"\n",
              "            title=\"Suggest charts\"\n",
              "            style=\"display:none;\">\n",
              "\n",
              "<svg xmlns=\"http://www.w3.org/2000/svg\" height=\"24px\"viewBox=\"0 0 24 24\"\n",
              "     width=\"24px\">\n",
              "    <g>\n",
              "        <path d=\"M19 3H5c-1.1 0-2 .9-2 2v14c0 1.1.9 2 2 2h14c1.1 0 2-.9 2-2V5c0-1.1-.9-2-2-2zM9 17H7v-7h2v7zm4 0h-2V7h2v10zm4 0h-2v-4h2v4z\"/>\n",
              "    </g>\n",
              "</svg>\n",
              "  </button>\n",
              "\n",
              "<style>\n",
              "  .colab-df-quickchart {\n",
              "      --bg-color: #E8F0FE;\n",
              "      --fill-color: #1967D2;\n",
              "      --hover-bg-color: #E2EBFA;\n",
              "      --hover-fill-color: #174EA6;\n",
              "      --disabled-fill-color: #AAA;\n",
              "      --disabled-bg-color: #DDD;\n",
              "  }\n",
              "\n",
              "  [theme=dark] .colab-df-quickchart {\n",
              "      --bg-color: #3B4455;\n",
              "      --fill-color: #D2E3FC;\n",
              "      --hover-bg-color: #434B5C;\n",
              "      --hover-fill-color: #FFFFFF;\n",
              "      --disabled-bg-color: #3B4455;\n",
              "      --disabled-fill-color: #666;\n",
              "  }\n",
              "\n",
              "  .colab-df-quickchart {\n",
              "    background-color: var(--bg-color);\n",
              "    border: none;\n",
              "    border-radius: 50%;\n",
              "    cursor: pointer;\n",
              "    display: none;\n",
              "    fill: var(--fill-color);\n",
              "    height: 32px;\n",
              "    padding: 0;\n",
              "    width: 32px;\n",
              "  }\n",
              "\n",
              "  .colab-df-quickchart:hover {\n",
              "    background-color: var(--hover-bg-color);\n",
              "    box-shadow: 0 1px 2px rgba(60, 64, 67, 0.3), 0 1px 3px 1px rgba(60, 64, 67, 0.15);\n",
              "    fill: var(--button-hover-fill-color);\n",
              "  }\n",
              "\n",
              "  .colab-df-quickchart-complete:disabled,\n",
              "  .colab-df-quickchart-complete:disabled:hover {\n",
              "    background-color: var(--disabled-bg-color);\n",
              "    fill: var(--disabled-fill-color);\n",
              "    box-shadow: none;\n",
              "  }\n",
              "\n",
              "  .colab-df-spinner {\n",
              "    border: 2px solid var(--fill-color);\n",
              "    border-color: transparent;\n",
              "    border-bottom-color: var(--fill-color);\n",
              "    animation:\n",
              "      spin 1s steps(1) infinite;\n",
              "  }\n",
              "\n",
              "  @keyframes spin {\n",
              "    0% {\n",
              "      border-color: transparent;\n",
              "      border-bottom-color: var(--fill-color);\n",
              "      border-left-color: var(--fill-color);\n",
              "    }\n",
              "    20% {\n",
              "      border-color: transparent;\n",
              "      border-left-color: var(--fill-color);\n",
              "      border-top-color: var(--fill-color);\n",
              "    }\n",
              "    30% {\n",
              "      border-color: transparent;\n",
              "      border-left-color: var(--fill-color);\n",
              "      border-top-color: var(--fill-color);\n",
              "      border-right-color: var(--fill-color);\n",
              "    }\n",
              "    40% {\n",
              "      border-color: transparent;\n",
              "      border-right-color: var(--fill-color);\n",
              "      border-top-color: var(--fill-color);\n",
              "    }\n",
              "    60% {\n",
              "      border-color: transparent;\n",
              "      border-right-color: var(--fill-color);\n",
              "    }\n",
              "    80% {\n",
              "      border-color: transparent;\n",
              "      border-right-color: var(--fill-color);\n",
              "      border-bottom-color: var(--fill-color);\n",
              "    }\n",
              "    90% {\n",
              "      border-color: transparent;\n",
              "      border-bottom-color: var(--fill-color);\n",
              "    }\n",
              "  }\n",
              "</style>\n",
              "\n",
              "  <script>\n",
              "    async function quickchart(key) {\n",
              "      const quickchartButtonEl =\n",
              "        document.querySelector('#' + key + ' button');\n",
              "      quickchartButtonEl.disabled = true;  // To prevent multiple clicks.\n",
              "      quickchartButtonEl.classList.add('colab-df-spinner');\n",
              "      try {\n",
              "        const charts = await google.colab.kernel.invokeFunction(\n",
              "            'suggestCharts', [key], {});\n",
              "      } catch (error) {\n",
              "        console.error('Error during call to suggestCharts:', error);\n",
              "      }\n",
              "      quickchartButtonEl.classList.remove('colab-df-spinner');\n",
              "      quickchartButtonEl.classList.add('colab-df-quickchart-complete');\n",
              "    }\n",
              "    (() => {\n",
              "      let quickchartButtonEl =\n",
              "        document.querySelector('#df-9a36bec8-81da-468d-8b85-6e831210c217 button');\n",
              "      quickchartButtonEl.style.display =\n",
              "        google.colab.kernel.accessAllowed ? 'block' : 'none';\n",
              "    })();\n",
              "  </script>\n",
              "</div>\n",
              "\n",
              "    </div>\n",
              "  </div>\n"
            ],
            "application/vnd.google.colaboratory.intrinsic+json": {
              "type": "dataframe",
              "variable_name": "data",
              "summary": "{\n  \"name\": \"data\",\n  \"rows\": 43152,\n  \"fields\": [\n    {\n      \"column\": \"Id\",\n      \"properties\": {\n        \"dtype\": \"number\",\n        \"std\": 12457,\n        \"min\": 1,\n        \"max\": 43152,\n        \"num_unique_values\": 43152,\n        \"samples\": [\n          14769,\n          33288,\n          2182\n        ],\n        \"semantic_type\": \"\",\n        \"description\": \"\"\n      }\n    },\n    {\n      \"column\": \"carat\",\n      \"properties\": {\n        \"dtype\": \"number\",\n        \"std\": 0.4735936225855274,\n        \"min\": 0.2,\n        \"max\": 5.01,\n        \"num_unique_values\": 266,\n        \"samples\": [\n          1.32,\n          1.72,\n          0.47\n        ],\n        \"semantic_type\": \"\",\n        \"description\": \"\"\n      }\n    },\n    {\n      \"column\": \"cut\",\n      \"properties\": {\n        \"dtype\": \"category\",\n        \"num_unique_values\": 5,\n        \"samples\": [\n          \"Premium\",\n          \"Good\",\n          \"Very Good\"\n        ],\n        \"semantic_type\": \"\",\n        \"description\": \"\"\n      }\n    },\n    {\n      \"column\": \"color\",\n      \"properties\": {\n        \"dtype\": \"category\",\n        \"num_unique_values\": 7,\n        \"samples\": [\n          \"I\",\n          \"G\",\n          \"E\"\n        ],\n        \"semantic_type\": \"\",\n        \"description\": \"\"\n      }\n    },\n    {\n      \"column\": \"clarity\",\n      \"properties\": {\n        \"dtype\": \"category\",\n        \"num_unique_values\": 8,\n        \"samples\": [\n          \"VVS2\",\n          \"SI1\",\n          \"SI2\"\n        ],\n        \"semantic_type\": \"\",\n        \"description\": \"\"\n      }\n    },\n    {\n      \"column\": \"depth\",\n      \"properties\": {\n        \"dtype\": \"number\",\n        \"std\": 1.4354538744826075,\n        \"min\": 43.0,\n        \"max\": 79.0,\n        \"num_unique_values\": 179,\n        \"samples\": [\n          56.9,\n          58.6,\n          59.7\n        ],\n        \"semantic_type\": \"\",\n        \"description\": \"\"\n      }\n    },\n    {\n      \"column\": \"table\",\n      \"properties\": {\n        \"dtype\": \"number\",\n        \"std\": 2.233903841503702,\n        \"min\": 43.0,\n        \"max\": 95.0,\n        \"num_unique_values\": 121,\n        \"samples\": [\n          55.3,\n          58.5,\n          62.0\n        ],\n        \"semantic_type\": \"\",\n        \"description\": \"\"\n      }\n    },\n    {\n      \"column\": \"price\",\n      \"properties\": {\n        \"dtype\": \"number\",\n        \"std\": 3985,\n        \"min\": 326,\n        \"max\": 18823,\n        \"num_unique_values\": 10640,\n        \"samples\": [\n          3290,\n          12000,\n          4641\n        ],\n        \"semantic_type\": \"\",\n        \"description\": \"\"\n      }\n    },\n    {\n      \"column\": \"x\",\n      \"properties\": {\n        \"dtype\": \"number\",\n        \"std\": 1.1212789590326664,\n        \"min\": 0.0,\n        \"max\": 10.74,\n        \"num_unique_values\": 546,\n        \"samples\": [\n          7.66,\n          4.8,\n          5.93\n        ],\n        \"semantic_type\": \"\",\n        \"description\": \"\"\n      }\n    },\n    {\n      \"column\": \"y\",\n      \"properties\": {\n        \"dtype\": \"number\",\n        \"std\": 1.1488086491186182,\n        \"min\": 0.0,\n        \"max\": 58.9,\n        \"num_unique_values\": 543,\n        \"samples\": [\n          9.81,\n          8.49,\n          4.02\n        ],\n        \"semantic_type\": \"\",\n        \"description\": \"\"\n      }\n    },\n    {\n      \"column\": \"z\",\n      \"properties\": {\n        \"dtype\": \"number\",\n        \"std\": 0.7082377680754497,\n        \"min\": 0.0,\n        \"max\": 31.8,\n        \"num_unique_values\": 368,\n        \"samples\": [\n          3.11,\n          2.82,\n          3.2\n        ],\n        \"semantic_type\": \"\",\n        \"description\": \"\"\n      }\n    }\n  ]\n}"
            }
          },
          "metadata": {},
          "execution_count": 37
        }
      ]
    },
    {
      "cell_type": "code",
      "source": [
        "data.info()"
      ],
      "metadata": {
        "colab": {
          "base_uri": "https://localhost:8080/"
        },
        "id": "U2APi0IhLLxR",
        "outputId": "2d61f99b-05dc-4985-ef43-ca365eea49df"
      },
      "execution_count": 38,
      "outputs": [
        {
          "output_type": "stream",
          "name": "stdout",
          "text": [
            "<class 'pandas.core.frame.DataFrame'>\n",
            "RangeIndex: 43152 entries, 0 to 43151\n",
            "Data columns (total 11 columns):\n",
            " #   Column   Non-Null Count  Dtype  \n",
            "---  ------   --------------  -----  \n",
            " 0   Id       43152 non-null  int64  \n",
            " 1   carat    43152 non-null  float64\n",
            " 2   cut      43152 non-null  object \n",
            " 3   color    43152 non-null  object \n",
            " 4   clarity  43152 non-null  object \n",
            " 5   depth    43152 non-null  float64\n",
            " 6   table    43152 non-null  float64\n",
            " 7   price    43152 non-null  int64  \n",
            " 8   x        43152 non-null  float64\n",
            " 9   y        43152 non-null  float64\n",
            " 10  z        43152 non-null  float64\n",
            "dtypes: float64(6), int64(2), object(3)\n",
            "memory usage: 3.6+ MB\n"
          ]
        }
      ]
    },
    {
      "cell_type": "code",
      "source": [
        "data_test.info()"
      ],
      "metadata": {
        "colab": {
          "base_uri": "https://localhost:8080/"
        },
        "id": "EJoL5J_nvwnp",
        "outputId": "ba2de0ef-5d83-467f-a44e-cc4916ada5e1"
      },
      "execution_count": 54,
      "outputs": [
        {
          "output_type": "stream",
          "name": "stdout",
          "text": [
            "<class 'pandas.core.frame.DataFrame'>\n",
            "RangeIndex: 10788 entries, 0 to 10787\n",
            "Data columns (total 10 columns):\n",
            " #   Column   Non-Null Count  Dtype  \n",
            "---  ------   --------------  -----  \n",
            " 0   Id       10788 non-null  int64  \n",
            " 1   carat    10788 non-null  float64\n",
            " 2   cut      10788 non-null  object \n",
            " 3   color    10788 non-null  object \n",
            " 4   clarity  10788 non-null  object \n",
            " 5   depth    10788 non-null  float64\n",
            " 6   table    10788 non-null  float64\n",
            " 7   x        10788 non-null  float64\n",
            " 8   y        10788 non-null  float64\n",
            " 9   z        10788 non-null  float64\n",
            "dtypes: float64(6), int64(1), object(3)\n",
            "memory usage: 842.9+ KB\n"
          ]
        }
      ]
    },
    {
      "cell_type": "code",
      "source": [
        "data_test.drop('Id',axis=1,inplace=True)\n",
        "data.drop('Id',axis=1,inplace=True)"
      ],
      "metadata": {
        "id": "pe9OPVPUv4iQ"
      },
      "execution_count": 39,
      "outputs": []
    },
    {
      "cell_type": "code",
      "source": [
        "categorical_features = data.select_dtypes(include='object').columns\n",
        "categorical_features"
      ],
      "metadata": {
        "colab": {
          "base_uri": "https://localhost:8080/"
        },
        "id": "ZY3necWjdkN9",
        "outputId": "8625e1b3-5e3d-4d1d-bf73-40b93ed4b482"
      },
      "execution_count": 40,
      "outputs": [
        {
          "output_type": "execute_result",
          "data": {
            "text/plain": [
              "Index(['cut', 'color', 'clarity'], dtype='object')"
            ]
          },
          "metadata": {},
          "execution_count": 40
        }
      ]
    },
    {
      "cell_type": "code",
      "source": [
        "categorical_features_test = data_test.select_dtypes(include='object').columns\n",
        "categorical_features_test"
      ],
      "metadata": {
        "colab": {
          "base_uri": "https://localhost:8080/"
        },
        "id": "GtnAzL7iv_ie",
        "outputId": "79a91cd9-e54c-4647-c1fa-e26233b9b8ca"
      },
      "execution_count": 41,
      "outputs": [
        {
          "output_type": "execute_result",
          "data": {
            "text/plain": [
              "Index(['cut', 'color', 'clarity'], dtype='object')"
            ]
          },
          "metadata": {},
          "execution_count": 41
        }
      ]
    },
    {
      "cell_type": "code",
      "source": [
        "#custom encoder\n",
        "data_1=data.copy()\n",
        "cut_map={\"Fair\": 1 ,\"Good\": 2 ,\"Very Good\": 3 , \"Premium\": 4 , \"Ideal\": 5 }\n",
        "encoded_cut = data_1['cut'].map(cut_map)\n",
        "data_1['cut']=encoded_cut\n",
        "#color\n",
        "color_map={\"J\": 1 ,\"I\": 2 ,\"H\": 3 , \"G\": 4 , \"F\": 5 , \"E\": 6 , \"D\":7 }\n",
        "encoded_color = data_1['color'].map(color_map)\n",
        "data_1['color']=encoded_color\n",
        "#clarity\n",
        "clarity_map={\"I1\": 1 ,\"SI2\": 2 ,\"SI1\": 3 , \"VS2\": 4 , \"VS1\": 5 , \"VVS2\": 6 , \"VVS1\":7 , \"IF\":8}\n",
        "encoded_clarity = data_1['clarity'].map(clarity_map)\n",
        "data_1['clarity']=encoded_clarity\n",
        "\n",
        "data_2=data_1.copy()"
      ],
      "metadata": {
        "id": "alLG7ETStwO3"
      },
      "execution_count": 42,
      "outputs": []
    },
    {
      "cell_type": "code",
      "source": [
        "data_2.info()"
      ],
      "metadata": {
        "colab": {
          "base_uri": "https://localhost:8080/"
        },
        "id": "FNcKy0C-yyGi",
        "outputId": "3819bde8-627b-4c5e-8c66-82fdb9fcc95b"
      },
      "execution_count": 43,
      "outputs": [
        {
          "output_type": "stream",
          "name": "stdout",
          "text": [
            "<class 'pandas.core.frame.DataFrame'>\n",
            "RangeIndex: 43152 entries, 0 to 43151\n",
            "Data columns (total 10 columns):\n",
            " #   Column   Non-Null Count  Dtype  \n",
            "---  ------   --------------  -----  \n",
            " 0   carat    43152 non-null  float64\n",
            " 1   cut      43152 non-null  int64  \n",
            " 2   color    43152 non-null  int64  \n",
            " 3   clarity  43152 non-null  int64  \n",
            " 4   depth    43152 non-null  float64\n",
            " 5   table    43152 non-null  float64\n",
            " 6   price    43152 non-null  int64  \n",
            " 7   x        43152 non-null  float64\n",
            " 8   y        43152 non-null  float64\n",
            " 9   z        43152 non-null  float64\n",
            "dtypes: float64(6), int64(4)\n",
            "memory usage: 3.3 MB\n"
          ]
        }
      ]
    },
    {
      "cell_type": "code",
      "source": [
        "#log scale\n",
        "log_features = data_2.select_dtypes(include=['float64']).columns\n",
        "\n",
        "X_train_log_scaled = data_2.copy()\n",
        "\n",
        "X_train_log_scaled[log_features] = np.log1p(data_2[log_features])\n",
        "\n"
      ],
      "metadata": {
        "id": "K4WTvdyGw0d6"
      },
      "execution_count": 54,
      "outputs": []
    },
    {
      "cell_type": "code",
      "source": [
        "log_features"
      ],
      "metadata": {
        "colab": {
          "base_uri": "https://localhost:8080/"
        },
        "id": "w9pMYgKuy49H",
        "outputId": "21d87a0d-6ea9-4c0d-bfa0-8b0c6d88b1e3"
      },
      "execution_count": 55,
      "outputs": [
        {
          "output_type": "execute_result",
          "data": {
            "text/plain": [
              "Index(['carat', 'depth', 'table', 'x', 'y', 'z'], dtype='object')"
            ]
          },
          "metadata": {},
          "execution_count": 55
        }
      ]
    },
    {
      "cell_type": "code",
      "source": [
        "X_train_log_scaled.info()"
      ],
      "metadata": {
        "colab": {
          "base_uri": "https://localhost:8080/"
        },
        "id": "ukfFDN08zb6q",
        "outputId": "a7db282d-484b-48a9-bf06-2e5934d4ed9c"
      },
      "execution_count": 59,
      "outputs": [
        {
          "output_type": "stream",
          "name": "stdout",
          "text": [
            "<class 'pandas.core.frame.DataFrame'>\n",
            "RangeIndex: 43152 entries, 0 to 43151\n",
            "Data columns (total 10 columns):\n",
            " #   Column   Non-Null Count  Dtype  \n",
            "---  ------   --------------  -----  \n",
            " 0   carat    43152 non-null  float64\n",
            " 1   cut      43152 non-null  int64  \n",
            " 2   color    43152 non-null  int64  \n",
            " 3   clarity  43152 non-null  int64  \n",
            " 4   depth    43152 non-null  float64\n",
            " 5   table    43152 non-null  float64\n",
            " 6   price    43152 non-null  int64  \n",
            " 7   x        43152 non-null  float64\n",
            " 8   y        43152 non-null  float64\n",
            " 9   z        43152 non-null  float64\n",
            "dtypes: float64(6), int64(4)\n",
            "memory usage: 3.3 MB\n"
          ]
        }
      ]
    },
    {
      "cell_type": "code",
      "source": [
        "#log scaled\n",
        "x=X_train_log_scaled.drop(['price','depth'],axis=1)\n",
        "y=X_train_log_scaled['price']\n",
        "X_train, X_test, y_train, y_test = train_test_split(x, y, test_size=0.2, random_state=42)"
      ],
      "metadata": {
        "id": "oncx-p8LxZSL"
      },
      "execution_count": 56,
      "outputs": []
    },
    {
      "cell_type": "code",
      "source": [
        "plt.figure(figsize=(8, 6))\n",
        "\n",
        "sns.heatmap(X_train_log_scaled.corr(), annot=True, cmap='coolwarm', fmt=\".2f\", annot_kws={\"size\": 10})\n",
        "plt.title('Correlation Matrix')\n",
        "plt.show()"
      ],
      "metadata": {
        "colab": {
          "base_uri": "https://localhost:8080/",
          "height": 543
        },
        "id": "lPLoKavlKNIB",
        "outputId": "b4e24579-4983-4968-db11-c28f30456420"
      },
      "execution_count": 102,
      "outputs": [
        {
          "output_type": "display_data",
          "data": {
            "text/plain": [
              "<Figure size 800x600 with 2 Axes>"
            ],
            "image/png": "[encoded data removed]"
          },
          "metadata": {}
        }
      ]
    },
    {
      "cell_type": "code",
      "source": [
        "!pip install catboost\n"
      ],
      "metadata": {
        "id": "B951gv5nk6uS"
      },
      "execution_count": null,
      "outputs": []
    },
    {
      "cell_type": "code",
      "source": [
        "from catboost import CatBoostRegressor"
      ],
      "metadata": {
        "id": "dfqE6xO1k3XD"
      },
      "execution_count": 47,
      "outputs": []
    },
    {
      "cell_type": "code",
      "source": [
        "catBoost = CatBoostRegressor(iterations=500, learning_rate=0.1, loss_function='RMSE')"
      ],
      "metadata": {
        "id": "lyX1l0vernn7"
      },
      "execution_count": 57,
      "outputs": []
    },
    {
      "cell_type": "code",
      "source": [
        "catBoost.fit(X_train, y_train, eval_set=(X_test, y_test), verbose=100)\n"
      ],
      "metadata": {
        "colab": {
          "base_uri": "https://localhost:8080/"
        },
        "id": "LPVQpOxPr0r6",
        "outputId": "69016107-61b9-42b9-8b17-689085324beb"
      },
      "execution_count": 64,
      "outputs": [
        {
          "output_type": "stream",
          "name": "stdout",
          "text": [
            "0:\tlearn: 3648.6031276\ttest: 3589.3603486\tbest: 3589.3603486 (0)\ttotal: 75ms\tremaining: 37.4s\n",
            "100:\tlearn: 547.6056157\ttest: 551.6251269\tbest: 551.6251269 (100)\ttotal: 2.71s\tremaining: 10.7s\n",
            "200:\tlearn: 510.8456597\ttest: 531.9469133\tbest: 531.9469133 (200)\ttotal: 4.14s\tremaining: 6.16s\n",
            "300:\tlearn: 485.9935097\ttest: 523.3724519\tbest: 523.2152767 (296)\ttotal: 5.6s\tremaining: 3.71s\n",
            "400:\tlearn: 468.0730676\ttest: 519.4900555\tbest: 519.4861516 (398)\ttotal: 7.7s\tremaining: 1.9s\n",
            "499:\tlearn: 454.8067675\ttest: 517.6306918\tbest: 517.3948364 (494)\ttotal: 9.77s\tremaining: 0us\n",
            "\n",
            "bestTest = 517.3948364\n",
            "bestIteration = 494\n",
            "\n",
            "Shrink model to first 495 iterations.\n"
          ]
        },
        {
          "output_type": "execute_result",
          "data": {
            "text/plain": [
              "<catboost.core.CatBoostRegressor at 0x7af0117a5c30>"
            ]
          },
          "metadata": {},
          "execution_count": 64
        }
      ]
    },
    {
      "cell_type": "code",
      "source": [
        "y_pred = catBoost.predict(X_test)\n",
        "from sklearn.metrics import mean_squared_error, r2_score\n",
        "\n",
        "mse = mean_squared_error(y_test, y_pred)\n",
        "r2 = r2_score(y_test, y_pred)\n",
        "\n",
        "rmse = np.sqrt(mse)  # Import numpy (np) if you haven't already\n",
        "print(f\"Root Mean Squared Error (RMSE): {rmse}\")\n"
      ],
      "metadata": {
        "colab": {
          "base_uri": "https://localhost:8080/"
        },
        "id": "LFam6vxssbws",
        "outputId": "8786842d-a9ed-4df2-df5b-3960f23dc455"
      },
      "execution_count": 65,
      "outputs": [
        {
          "output_type": "stream",
          "name": "stdout",
          "text": [
            "Root Mean Squared Error (RMSE): 517.394836413038\n"
          ]
        }
      ]
    }
  ]
}